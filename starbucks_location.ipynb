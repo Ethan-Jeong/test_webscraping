{
 "cells": [
  {
   "cell_type": "code",
   "execution_count": 1,
   "id": "2c0ac51f",
   "metadata": {},
   "outputs": [],
   "source": [
    "from selenium import webdriver"
   ]
  },
  {
   "cell_type": "code",
   "execution_count": 2,
   "id": "c0f2dd77",
   "metadata": {},
   "outputs": [],
   "source": [
    "browser = webdriver.Chrome('./chromedriver/chromedriver')\n",
    "browser.get('https://www.starbucks.co.kr/store/store_map.do?disp=locale')"
   ]
  },
  {
   "cell_type": "code",
   "execution_count": 3,
   "id": "aeddd4b1",
   "metadata": {},
   "outputs": [],
   "source": [
    "import time\n",
    "time.sleep(3)\n",
    "browser.find_element_by_css_selector('ul.sido_arae_box > li > a[data-sidocd=\"01\"] ').click() # click evevt 발생"
   ]
  },
  {
   "cell_type": "code",
   "execution_count": 4,
   "id": "9d7762e3",
   "metadata": {},
   "outputs": [],
   "source": [
    "time.sleep(3)\n",
    "browser.find_element_by_css_selector('ul > li > a[data-sidocd=\"01\"][href*=\"0\"][data-guguncd=\"\"]').click() # click evevt 발생"
   ]
  },
  {
   "cell_type": "code",
   "execution_count": 5,
   "id": "90af347b",
   "metadata": {},
   "outputs": [],
   "source": [
    "from bs4 import BeautifulSoup as bs"
   ]
  },
  {
   "cell_type": "code",
   "execution_count": 7,
   "id": "eed4eef5",
   "metadata": {},
   "outputs": [],
   "source": [
    "soup = bs(browser.page_source ,'html.parser')"
   ]
  },
  {
   "cell_type": "code",
   "execution_count": 8,
   "id": "8bc0dfdf",
   "metadata": {},
   "outputs": [],
   "source": [
    "starbucks = soup.select('ul > li.quickResultLstCon')"
   ]
  },
  {
   "cell_type": "code",
   "execution_count": 9,
   "id": "b960340a",
   "metadata": {},
   "outputs": [
    {
     "data": {
      "text/plain": [
       "553"
      ]
     },
     "execution_count": 9,
     "metadata": {},
     "output_type": "execute_result"
    }
   ],
   "source": [
    "len(starbucks)"
   ]
  },
  {
   "cell_type": "code",
   "execution_count": 11,
   "id": "c137ca6e",
   "metadata": {},
   "outputs": [
    {
     "data": {
      "text/plain": [
       "<li class=\"quickResultLstCon\" data-code=\"3762\" data-hlytag=\"null\" data-index=\"0\" data-lat=\"37.501087\" data-long=\"127.043069\" data-name=\"역삼아레나빌딩\" data-storecd=\"1509\" style=\"background:#fff\"> <strong data-my_siren_order_store_yn=\"N\" data-name=\"역삼아레나빌딩\" data-store=\"1509\" data-yn=\"N\">역삼아레나빌딩  </strong> <p class=\"result_details\">서울특별시 강남구 언주로 425 (역삼동)<br/>1522-3232</p> <i class=\"pin_general\">리저브 매장 2번</i></li>"
      ]
     },
     "execution_count": 11,
     "metadata": {},
     "output_type": "execute_result"
    }
   ],
   "source": [
    "starbucks[0]"
   ]
  },
  {
   "cell_type": "code",
   "execution_count": null,
   "id": "b557b99b",
   "metadata": {},
   "outputs": [],
   "source": []
  }
 ],
 "metadata": {
  "kernelspec": {
   "display_name": "Python 3",
   "language": "python",
   "name": "python3"
  },
  "language_info": {
   "codemirror_mode": {
    "name": "ipython",
    "version": 3
   },
   "file_extension": ".py",
   "mimetype": "text/x-python",
   "name": "python",
   "nbconvert_exporter": "python",
   "pygments_lexer": "ipython3",
   "version": "3.6.4"
  }
 },
 "nbformat": 4,
 "nbformat_minor": 5
}
