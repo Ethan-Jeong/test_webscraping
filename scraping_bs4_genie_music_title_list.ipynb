{
 "cells": [
  {
   "cell_type": "code",
   "execution_count": 1,
   "id": "1197b6e3",
   "metadata": {},
   "outputs": [],
   "source": [
    "import requests"
   ]
  },
  {
   "cell_type": "code",
   "execution_count": 2,
   "id": "3d1267a4",
   "metadata": {},
   "outputs": [],
   "source": [
    "req = requests.get('https://www.genie.co.kr/chart/top200')"
   ]
  },
  {
   "cell_type": "code",
   "execution_count": 3,
   "id": "f6580508",
   "metadata": {},
   "outputs": [
    {
     "data": {
      "text/plain": [
       "200"
      ]
     },
     "execution_count": 3,
     "metadata": {},
     "output_type": "execute_result"
    }
   ],
   "source": [
    "req.status_code"
   ]
  },
  {
   "cell_type": "code",
   "execution_count": 4,
   "id": "bd627e2d",
   "metadata": {},
   "outputs": [],
   "source": [
    "from bs4 import BeautifulSoup as bs"
   ]
  },
  {
   "cell_type": "code",
   "execution_count": 7,
   "id": "4440a4b5",
   "metadata": {},
   "outputs": [
    {
     "data": {
      "text/plain": [
       "<br/>\n",
       "<br/>\n",
       "<center>\n",
       "<img src=\"http://www.geniemusic.co.kr/images/common/logo_r1.png\"/><br/>\n",
       "<h2> <meta content=\"text/html;charset=utf-8\" http-equiv=\"Content-Type\"/> 접속요청이 보안정책에 의해 차단되었습니다. 당사 고객센터로 문의해주십시오.<br/><br/>\n",
       "The security policy of the connection request is blocked. Contact your customer service representative.<br/><br/>\n",
       "지니뮤직 고객센터 1577-5337<br/><br/>\n",
       "</h2>\n",
       "</center>\n",
       "<br/>"
      ]
     },
     "execution_count": 7,
     "metadata": {},
     "output_type": "execute_result"
    }
   ],
   "source": [
    "soup = bs(req.content,'html.parser')\n",
    "soup"
   ]
  },
  {
   "cell_type": "code",
   "execution_count": null,
   "id": "f6722990",
   "metadata": {},
   "outputs": [],
   "source": []
  }
 ],
 "metadata": {
  "kernelspec": {
   "display_name": "Python 3",
   "language": "python",
   "name": "python3"
  },
  "language_info": {
   "codemirror_mode": {
    "name": "ipython",
    "version": 3
   },
   "file_extension": ".py",
   "mimetype": "text/x-python",
   "name": "python",
   "nbconvert_exporter": "python",
   "pygments_lexer": "ipython3",
   "version": "3.6.4"
  }
 },
 "nbformat": 4,
 "nbformat_minor": 5
}
