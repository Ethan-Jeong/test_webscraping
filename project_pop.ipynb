{
  "nbformat": 4,
  "nbformat_minor": 0,
  "metadata": {
    "colab": {
      "name": "project_pop.ipynb",
      "provenance": [],
      "collapsed_sections": [],
      "include_colab_link": true
    },
    "kernelspec": {
      "name": "python3",
      "display_name": "Python 3"
    },
    "language_info": {
      "name": "python"
    }
  },
  "cells": [
    {
      "cell_type": "markdown",
      "metadata": {
        "id": "view-in-github",
        "colab_type": "text"
      },
      "source": [
        "<a href=\"https://colab.research.google.com/github/Ethan-Jeong/test_webscraping/blob/master/project_pop.ipynb\" target=\"_parent\"><img src=\"https://colab.research.google.com/assets/colab-badge.svg\" alt=\"Open In Colab\"/></a>"
      ]
    },
    {
      "cell_type": "code",
      "metadata": {
        "colab": {
          "base_uri": "https://localhost:8080/"
        },
        "id": "BuPJQQBu5CtW",
        "outputId": "94c16b34-50f7-4c98-8ce9-a72cad6c6a58"
      },
      "source": [
        "!pip install -U finance-datareader\n",
        "import FinanceDataReader as fdr\n",
        "df_krx = fdr.StockListing('KRX')"
      ],
      "execution_count": 1,
      "outputs": [
        {
          "output_type": "stream",
          "text": [
            "Collecting finance-datareader\n",
            "  Downloading finance_datareader-0.9.31-py3-none-any.whl (17 kB)\n",
            "Collecting requests-file\n",
            "  Downloading requests_file-1.5.1-py2.py3-none-any.whl (3.7 kB)\n",
            "Requirement already satisfied: pandas>=0.19.2 in /usr/local/lib/python3.7/dist-packages (from finance-datareader) (1.1.5)\n",
            "Requirement already satisfied: lxml in /usr/local/lib/python3.7/dist-packages (from finance-datareader) (4.2.6)\n",
            "Requirement already satisfied: requests>=2.3.0 in /usr/local/lib/python3.7/dist-packages (from finance-datareader) (2.23.0)\n",
            "Requirement already satisfied: tqdm in /usr/local/lib/python3.7/dist-packages (from finance-datareader) (4.41.1)\n",
            "Requirement already satisfied: python-dateutil>=2.7.3 in /usr/local/lib/python3.7/dist-packages (from pandas>=0.19.2->finance-datareader) (2.8.1)\n",
            "Requirement already satisfied: numpy>=1.15.4 in /usr/local/lib/python3.7/dist-packages (from pandas>=0.19.2->finance-datareader) (1.19.5)\n",
            "Requirement already satisfied: pytz>=2017.2 in /usr/local/lib/python3.7/dist-packages (from pandas>=0.19.2->finance-datareader) (2018.9)\n",
            "Requirement already satisfied: six>=1.5 in /usr/local/lib/python3.7/dist-packages (from python-dateutil>=2.7.3->pandas>=0.19.2->finance-datareader) (1.15.0)\n",
            "Requirement already satisfied: certifi>=2017.4.17 in /usr/local/lib/python3.7/dist-packages (from requests>=2.3.0->finance-datareader) (2021.5.30)\n",
            "Requirement already satisfied: chardet<4,>=3.0.2 in /usr/local/lib/python3.7/dist-packages (from requests>=2.3.0->finance-datareader) (3.0.4)\n",
            "Requirement already satisfied: idna<3,>=2.5 in /usr/local/lib/python3.7/dist-packages (from requests>=2.3.0->finance-datareader) (2.10)\n",
            "Requirement already satisfied: urllib3!=1.25.0,!=1.25.1,<1.26,>=1.21.1 in /usr/local/lib/python3.7/dist-packages (from requests>=2.3.0->finance-datareader) (1.24.3)\n",
            "Installing collected packages: requests-file, finance-datareader\n",
            "Successfully installed finance-datareader-0.9.31 requests-file-1.5.1\n"
          ],
          "name": "stdout"
        }
      ]
    },
    {
      "cell_type": "code",
      "metadata": {
        "colab": {
          "base_uri": "https://localhost:8080/"
        },
        "id": "7Ref5ZY7ab72",
        "outputId": "71c25e42-73b0-4e5d-e8fb-7b59b0b4d2bd"
      },
      "source": [
        "import sqlite3\n",
        "conn = sqlite3.connect('./db.stock')\n",
        "c = conn.cursor()\n",
        "c.execute(\"CREATE TABLE IF NOT EXISTS article (id INTEGER PRIMARY KEY AUTOINCREMENT, date TEXT, time TEXT, title TEXT, content TEXT, press TEXT , stock TEXT, posi_nega TEXT)\")"
      ],
      "execution_count": 2,
      "outputs": [
        {
          "output_type": "execute_result",
          "data": {
            "text/plain": [
              "<sqlite3.Cursor at 0x7f11b301a9d0>"
            ]
          },
          "metadata": {
            "tags": []
          },
          "execution_count": 2
        }
      ]
    },
    {
      "cell_type": "code",
      "metadata": {
        "id": "VxEvZodO3NTd"
      },
      "source": [
        "from bs4 import BeautifulSoup\n",
        "import requests\n",
        "import pandas as pd\n",
        "\n",
        "# https://jsikim1.tistory.com/143\n",
        "from datetime import datetime , timedelta\n",
        "from dateutil.relativedelta import relativedelta \n",
        "\n",
        "now = datetime.now()\n",
        "# gap = now - relativedelta(months=1)\n",
        "gap = now - timedelta(days=1)\n",
        "\n",
        "now = str(now)[0:10]\n",
        "gap = str(gap)[0:10]\n",
        "\n",
        "dt_index = pd.date_range(start=gap, end=now)\n",
        "dt_list = dt_index.strftime(\"%Y%m%d\").tolist()\n",
        "\n",
        "for j in dt_list:\n",
        "\n",
        "  date_cnt_uri = 'https://finance.naver.com/news/news_list.nhn?mode=LSS3D&section_id=101&section_id2=258&section_id3=402&date='+j+'&page=100'\n",
        "  date_cnt_target = date_cnt_uri\n",
        "  date_cnt_req  = requests.get(date_cnt_target)\n",
        "  date_cnt_soup = BeautifulSoup(date_cnt_req.content,'html.parser')\n",
        "  date_cnt_page = int(date_cnt_soup.select('td.on > a ')[0].get_text())\n",
        "  \n",
        "  uri = 'https://finance.naver.com/news/news_list.nhn?mode=LSS3D&section_id=101&section_id2=258&section_id3=402&date='+j+'&page='\n",
        "\n",
        "  for page in range(1,date_cnt_page+1):    \n",
        "\n",
        "    target = uri+str(page)\n",
        "    req  = requests.get(target)\n",
        "    soup = BeautifulSoup(req.content,'html.parser')\n",
        "    datas = soup.select('#contentarea_left > ul.realtimeNewsList')\n",
        "\n",
        "    for content in datas:\n",
        "      \n",
        "      titles = content.select(' li > dl > dd.articleSubject')\n",
        "      article = content.select('li > dl > dd.articleSummary')\n",
        "      article_date =  content.select('li > dl > dd.articleSummary > span.wdate ')\n",
        "      article_press =  content.select('li > dl > dd.articleSummary > span.press ') \n",
        "\n",
        "      article_sum = list()\n",
        "\n",
        "      for i in range(0,len(titles)-1):\n",
        "        article_data = list()\n",
        "        \n",
        "        article_len = len(article[i].get_text(\" \",strip=True))\n",
        "        \n",
        "        data_date = article_date[i].get_text(\" \",strip=True)[0:10]\n",
        "        data_time = article_date[i].get_text(\" \",strip=True)[11:17]\n",
        "        data_press = article_press[i].get_text(\" \",strip=True)\n",
        "        data_title = titles[i].get_text(\" \",strip=True)\n",
        "        \n",
        "        if article_len > 90:\n",
        "          idx = article[i].get_text(\" \",strip=True).index('...')\n",
        "          data_content = article[i].get_text(\" \",strip=True)[0:idx+3]\n",
        "        else:\n",
        "          data_content = article[i].get_text(\" \",strip=True)\n",
        "        \n",
        "        c.execute(\"INSERT INTO article( date , time , press , title, content, stock , posi_nega ) VALUES(?,?,?,?,?,?,?)\",( data_date,data_time,data_press,data_title,data_content,'stock','posi_nega'))\n",
        "        conn.commit()\n",
        "c.close()"
      ],
      "execution_count": 6,
      "outputs": []
    },
    {
      "cell_type": "code",
      "metadata": {
        "id": "iYeFjABVjNdS"
      },
      "source": [
        "conn = sqlite3.connect('/content/db.stock')\n",
        "\n",
        "c_title = conn.cursor()\n",
        "c_id = conn.cursor()\n",
        "c_update = conn.cursor()\n",
        "\n",
        "c_title.execute(\"SELECT title FROM article \")\n",
        "c_id.execute(\"SELECT * FROM article \")\n",
        "\n",
        "sql_title = c_title.fetchall()\n",
        "sql_id = c_id.fetchall()\n",
        "\n",
        "title_list = [list[0] for list in sql_title ]\n",
        "id_list = [list[0] for list in sql_id ]\n",
        "\n",
        "df_krx_list = df_krx['Name'].tolist()\n",
        "\n",
        "for k in range(0,len(title_list)):\n",
        "  for l in range(0,int(len(title_list[k].split()))):\n",
        "    keyword = title_list[k].split()[l]\n",
        "    if keyword in df_krx_list:\n",
        "      sql_update = 'update article set stock = \"' + keyword +'\" where id = ' + str(sql_id[k][0])\n",
        "      c_update.execute(sql_update)\n",
        "      conn.commit()"
      ],
      "execution_count": 9,
      "outputs": []
    },
    {
      "cell_type": "code",
      "metadata": {
        "colab": {
          "base_uri": "https://localhost:8080/",
          "height": 414
        },
        "id": "od1PQUw0Zat4",
        "outputId": "d49614db-2038-45ae-a522-659ce662eefd"
      },
      "source": [
        "c_select = conn.cursor()\n",
        "final = c_select.execute(\"SELECT * FROM article where stock != 'stock' \")\n",
        "df = pd.DataFrame(final)\n",
        "df.columns= ['id', 'date' , 'time' , 'title', 'content', 'press' ,'stock' , 'posi_nega' ]\n",
        "df\n",
        "c.close()"
      ],
      "execution_count": 25,
      "outputs": [
        {
          "output_type": "execute_result",
          "data": {
            "text/html": [
              "<div>\n",
              "<style scoped>\n",
              "    .dataframe tbody tr th:only-of-type {\n",
              "        vertical-align: middle;\n",
              "    }\n",
              "\n",
              "    .dataframe tbody tr th {\n",
              "        vertical-align: top;\n",
              "    }\n",
              "\n",
              "    .dataframe thead th {\n",
              "        text-align: right;\n",
              "    }\n",
              "</style>\n",
              "<table border=\"1\" class=\"dataframe\">\n",
              "  <thead>\n",
              "    <tr style=\"text-align: right;\">\n",
              "      <th></th>\n",
              "      <th>id</th>\n",
              "      <th>date</th>\n",
              "      <th>time</th>\n",
              "      <th>title</th>\n",
              "      <th>content</th>\n",
              "      <th>press</th>\n",
              "      <th>stock</th>\n",
              "      <th>posi_nega</th>\n",
              "    </tr>\n",
              "  </thead>\n",
              "  <tbody>\n",
              "    <tr>\n",
              "      <th>0</th>\n",
              "      <td>6</td>\n",
              "      <td>2021-08-10</td>\n",
              "      <td>18:27</td>\n",
              "      <td>공모가도 못넘긴 크래프톤 '굴욕'</td>\n",
              "      <td>삼성증권은 초대형 투자은행(IB) 중 최초로 온라인 공모주 청약시간을 오후 10시까...</td>\n",
              "      <td>파이낸셜뉴스</td>\n",
              "      <td>크래프톤</td>\n",
              "      <td>posi_nega</td>\n",
              "    </tr>\n",
              "    <tr>\n",
              "      <th>1</th>\n",
              "      <td>7</td>\n",
              "      <td>2021-08-10</td>\n",
              "      <td>18:26</td>\n",
              "      <td>크래프톤 호된 신고식… 공모가 고평가 논란 다시 불붙었다 [대형주 IPO 불패 깨졌다]</td>\n",
              "      <td>삼성자산운용은 지난 6일을 기준으로 업계 최초로 관리자산(AUM)이 300조원을 넘...</td>\n",
              "      <td>파이낸셜뉴스</td>\n",
              "      <td>크래프톤</td>\n",
              "      <td>posi_nega</td>\n",
              "    </tr>\n",
              "    <tr>\n",
              "      <th>2</th>\n",
              "      <td>22</td>\n",
              "      <td>2021-08-10</td>\n",
              "      <td>16:49</td>\n",
              "      <td>동아에스티 2분기 영업익 79억원으로 흑자전환…전문약 선방</td>\n",
              "      <td>KTB자산운용이 미국 멀티패밀리(임대주택) 대출형 상품에 주로 투자하는 5500억원...</td>\n",
              "      <td>한국경제</td>\n",
              "      <td>동아에스티</td>\n",
              "      <td>posi_nega</td>\n",
              "    </tr>\n",
              "    <tr>\n",
              "      <th>3</th>\n",
              "      <td>27</td>\n",
              "      <td>2021-08-10</td>\n",
              "      <td>16:03</td>\n",
              "      <td>빛바랜 '게임대장주' 대관식…공모가도 못 지킨 크래프톤</td>\n",
              "      <td>[파이낸셜뉴스] 이재용 삼성전자 부회장의 가석방 결정에도 삼성 그룹주가 전반적으로 ...</td>\n",
              "      <td>파이낸셜뉴스</td>\n",
              "      <td>크래프톤</td>\n",
              "      <td>posi_nega</td>\n",
              "    </tr>\n",
              "    <tr>\n",
              "      <th>4</th>\n",
              "      <td>28</td>\n",
              "      <td>2021-08-10</td>\n",
              "      <td>16:02</td>\n",
              "      <td>거래량은 터졌는데…공모가 대비 '-8.8%' 꼬리표 달게 된 크래프톤</td>\n",
              "      <td>닭가슴살 판매 플랫폼 ‘랭킹닭컴’을 보유하고 있는 푸드나무가 52주 신고가 경신을 ...</td>\n",
              "      <td>한국경제</td>\n",
              "      <td>크래프톤</td>\n",
              "      <td>posi_nega</td>\n",
              "    </tr>\n",
              "    <tr>\n",
              "      <th>...</th>\n",
              "      <td>...</td>\n",
              "      <td>...</td>\n",
              "      <td>...</td>\n",
              "      <td>...</td>\n",
              "      <td>...</td>\n",
              "      <td>...</td>\n",
              "      <td>...</td>\n",
              "      <td>...</td>\n",
              "    </tr>\n",
              "    <tr>\n",
              "      <th>89</th>\n",
              "      <td>598</td>\n",
              "      <td>2021-08-11</td>\n",
              "      <td>09:12</td>\n",
              "      <td>미래에셋운용, 초등학생 대상 여름방학 특강.. '비대면 온라인교육' 성료</td>\n",
              "      <td>[서울경제] 코로나19 발병 이후 신규 확진자가 처음으로 2,200명을 넘어서면서 ...</td>\n",
              "      <td>서울경제</td>\n",
              "      <td>대상</td>\n",
              "      <td>posi_nega</td>\n",
              "    </tr>\n",
              "    <tr>\n",
              "      <th>90</th>\n",
              "      <td>599</td>\n",
              "      <td>2021-08-11</td>\n",
              "      <td>09:10</td>\n",
              "      <td>청약서 크래프톤 이긴 원티드랩, 상장 첫날 '따상'도 성공</td>\n",
              "      <td>포스코가 미국 1조 달러 규모 인프라 투자 수혜 기대감에 상승하고 있다. 11일 오...</td>\n",
              "      <td>한국경제TV</td>\n",
              "      <td>크래프톤</td>\n",
              "      <td>posi_nega</td>\n",
              "    </tr>\n",
              "    <tr>\n",
              "      <th>91</th>\n",
              "      <td>601</td>\n",
              "      <td>2021-08-11</td>\n",
              "      <td>09:01</td>\n",
              "      <td>위메이드 2분기 영업이익 269억원..'흑자 전환'</td>\n",
              "      <td>[헤럴드경제=이세진 기자] 스테인레스강 등을 제조하는 현대차그룹 계열사 현대비앤지스...</td>\n",
              "      <td>헤럴드경제</td>\n",
              "      <td>위메이드</td>\n",
              "      <td>posi_nega</td>\n",
              "    </tr>\n",
              "    <tr>\n",
              "      <th>92</th>\n",
              "      <td>608</td>\n",
              "      <td>2021-08-11</td>\n",
              "      <td>08:52</td>\n",
              "      <td>CJ CGV, 대작 개봉에 외형 성장 가시화…목표가 25%↑-유진</td>\n",
              "      <td>[파이낸셜뉴스]SK증권은 11일 아이원스에 대해 올해 2·4분기 영업이익 91억원의...</td>\n",
              "      <td>파이낸셜뉴스</td>\n",
              "      <td>CJ</td>\n",
              "      <td>posi_nega</td>\n",
              "    </tr>\n",
              "    <tr>\n",
              "      <th>93</th>\n",
              "      <td>620</td>\n",
              "      <td>2021-08-11</td>\n",
              "      <td>08:07</td>\n",
              "      <td>크래프톤 이긴 원티드랩, 오늘 코스닥 입성…따상 가능성은?</td>\n",
              "      <td>≪이 기사는 08월 11일(08:05) 바이오.제약,헬스케어 전문매체 ‘한경바이오인...</td>\n",
              "      <td>한국경제</td>\n",
              "      <td>크래프톤</td>\n",
              "      <td>posi_nega</td>\n",
              "    </tr>\n",
              "  </tbody>\n",
              "</table>\n",
              "<p>94 rows × 8 columns</p>\n",
              "</div>"
            ],
            "text/plain": [
              "     id        date   time  ...   press  stock  posi_nega\n",
              "0     6  2021-08-10  18:27  ...  파이낸셜뉴스   크래프톤  posi_nega\n",
              "1     7  2021-08-10  18:26  ...  파이낸셜뉴스   크래프톤  posi_nega\n",
              "2    22  2021-08-10  16:49  ...    한국경제  동아에스티  posi_nega\n",
              "3    27  2021-08-10  16:03  ...  파이낸셜뉴스   크래프톤  posi_nega\n",
              "4    28  2021-08-10  16:02  ...    한국경제   크래프톤  posi_nega\n",
              "..  ...         ...    ...  ...     ...    ...        ...\n",
              "89  598  2021-08-11  09:12  ...    서울경제     대상  posi_nega\n",
              "90  599  2021-08-11  09:10  ...  한국경제TV   크래프톤  posi_nega\n",
              "91  601  2021-08-11  09:01  ...   헤럴드경제   위메이드  posi_nega\n",
              "92  608  2021-08-11  08:52  ...  파이낸셜뉴스     CJ  posi_nega\n",
              "93  620  2021-08-11  08:07  ...    한국경제   크래프톤  posi_nega\n",
              "\n",
              "[94 rows x 8 columns]"
            ]
          },
          "metadata": {
            "tags": []
          },
          "execution_count": 25
        }
      ]
    }
  ]
}