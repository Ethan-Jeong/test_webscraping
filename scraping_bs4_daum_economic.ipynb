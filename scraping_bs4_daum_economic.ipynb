{
 "cells": [
  {
   "cell_type": "code",
   "execution_count": 1,
   "id": "b7566d84",
   "metadata": {},
   "outputs": [],
   "source": [
    "import requests"
   ]
  },
  {
   "cell_type": "markdown",
   "id": "0bed0a08",
   "metadata": {},
   "source": [
    "http://media.daum.net/economic/"
   ]
  },
  {
   "cell_type": "code",
   "execution_count": 6,
   "id": "00ed91bf",
   "metadata": {},
   "outputs": [
    {
     "data": {
      "text/plain": [
       "200"
      ]
     },
     "execution_count": 6,
     "metadata": {},
     "output_type": "execute_result"
    }
   ],
   "source": [
    "req = requests.get('http://media.daum.net/economic/')\n",
    "req.status_code"
   ]
  },
  {
   "cell_type": "code",
   "execution_count": 9,
   "id": "8d407046",
   "metadata": {},
   "outputs": [],
   "source": [
    "from bs4 import BeautifulSoup"
   ]
  },
  {
   "cell_type": "code",
   "execution_count": 11,
   "id": "f0b34ea5",
   "metadata": {},
   "outputs": [],
   "source": [
    "soup = BeautifulSoup(req.content,'html.parser')"
   ]
  },
  {
   "cell_type": "code",
   "execution_count": 12,
   "id": "9b16a51b",
   "metadata": {},
   "outputs": [
    {
     "data": {
      "text/plain": [
       "bs4.BeautifulSoup"
      ]
     },
     "execution_count": 12,
     "metadata": {},
     "output_type": "execute_result"
    }
   ],
   "source": [
    "type(soup)"
   ]
  },
  {
   "cell_type": "code",
   "execution_count": 15,
   "id": "d5f8f719",
   "metadata": {},
   "outputs": [],
   "source": [
    "result = soup.select('div > strong.tit_thumb > a[href].link_txt')"
   ]
  },
  {
   "cell_type": "code",
   "execution_count": 16,
   "id": "bb634485",
   "metadata": {},
   "outputs": [
    {
     "data": {
      "text/plain": [
       "bs4.element.ResultSet"
      ]
     },
     "execution_count": 16,
     "metadata": {},
     "output_type": "execute_result"
    }
   ],
   "source": [
    "type(result)"
   ]
  },
  {
   "cell_type": "code",
   "execution_count": 17,
   "id": "9fe063bb",
   "metadata": {},
   "outputs": [
    {
     "data": {
      "text/plain": [
       "<a class=\"link_txt\" data-tiara-custom=\"contentUniqueKey=hamny-20210624161729105\" data-tiara-id=\"20210624161729105\" data-tiara-layer=\"article_main\" data-tiara-ordnum=\"1\" data-tiara-type=\"harmony\" href=\"https://news.v.daum.net/v/20210624161729105\">재산권 침해 논란에 국토부·서울시 \"조합원 지위 제한, 소급·일괄적용 아냐\"</a>"
      ]
     },
     "execution_count": 17,
     "metadata": {},
     "output_type": "execute_result"
    }
   ],
   "source": [
    "result[0]"
   ]
  },
  {
   "cell_type": "code",
   "execution_count": 24,
   "id": "585fbaa0",
   "metadata": {},
   "outputs": [
    {
     "data": {
      "text/plain": [
       "'재산권 침해 논란에 국토부·서울시 \"조합원 지위 제한, 소급·일괄적용 아냐\"'"
      ]
     },
     "execution_count": 24,
     "metadata": {},
     "output_type": "execute_result"
    }
   ],
   "source": [
    "result[0].text.strip()"
   ]
  },
  {
   "cell_type": "code",
   "execution_count": 19,
   "id": "ca4c2b19",
   "metadata": {},
   "outputs": [],
   "source": [
    "tag = result[0]"
   ]
  },
  {
   "cell_type": "code",
   "execution_count": 20,
   "id": "6f8fc37f",
   "metadata": {},
   "outputs": [
    {
     "data": {
      "text/plain": [
       "'https://news.v.daum.net/v/20210624161729105'"
      ]
     },
     "execution_count": 20,
     "metadata": {},
     "output_type": "execute_result"
    }
   ],
   "source": [
    "tag['href']"
   ]
  },
  {
   "cell_type": "code",
   "execution_count": 23,
   "id": "0da033ed",
   "metadata": {},
   "outputs": [
    {
     "name": "stdout",
     "output_type": "stream",
     "text": [
      "재산권 침해 논란에 국토부·서울시 \"조합원 지위 제한, 소급·일괄적용 아냐\" https://news.v.daum.net/v/20210624161729105\n",
      "삼성·현대차 등 금융복합기업 감독 본격화..3년마다 위험평가 https://news.v.daum.net/v/20210624161440968\n",
      "'급식 몰아주기'에 사상 최대 과징금..삼성 \"행정소송할 것\" https://news.v.daum.net/v/20210624160716684\n",
      "금투협 채권포럼..\"통화정책 정상화 임박, 만기별 금리 차별화\" https://news.v.daum.net/v/20210624160022231\n",
      "재난지원금 소득하위 80%, 자영업자 지원 600만원 이상 유력 https://news.v.daum.net/v/20210624160147331\n"
     ]
    }
   ],
   "source": [
    "for tag in result:\n",
    "    print(tag.text.strip(), tag['href'])"
   ]
  },
  {
   "cell_type": "code",
   "execution_count": null,
   "id": "57b6f9b1",
   "metadata": {},
   "outputs": [],
   "source": []
  }
 ],
 "metadata": {
  "kernelspec": {
   "display_name": "Python 3",
   "language": "python",
   "name": "python3"
  },
  "language_info": {
   "codemirror_mode": {
    "name": "ipython",
    "version": 3
   },
   "file_extension": ".py",
   "mimetype": "text/x-python",
   "name": "python",
   "nbconvert_exporter": "python",
   "pygments_lexer": "ipython3",
   "version": "3.6.4"
  }
 },
 "nbformat": 4,
 "nbformat_minor": 5
}
