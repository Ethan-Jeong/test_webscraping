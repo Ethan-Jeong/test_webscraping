{
 "cells": [
  {
   "cell_type": "code",
   "execution_count": 1,
   "id": "24a6225c",
   "metadata": {},
   "outputs": [],
   "source": [
    "import requests"
   ]
  },
  {
   "cell_type": "markdown",
   "id": "bdb62433",
   "metadata": {},
   "source": [
    "http://media.daum.net/economic/"
   ]
  },
  {
   "cell_type": "code",
   "execution_count": 6,
   "id": "29115d90",
   "metadata": {},
   "outputs": [
    {
     "data": {
      "text/plain": [
       "200"
      ]
     },
     "execution_count": 6,
     "metadata": {},
     "output_type": "execute_result"
    }
   ],
   "source": [
    "req = requests.get('http://media.daum.net/economic/')\n",
    "req.status_code"
   ]
  },
  {
   "cell_type": "code",
   "execution_count": 9,
   "id": "0646ea7e",
   "metadata": {},
   "outputs": [],
   "source": [
    "from bs4 import BeautifulSoup"
   ]
  },
  {
   "cell_type": "code",
   "execution_count": 25,
   "id": "d0a4a20f",
   "metadata": {},
   "outputs": [],
   "source": [
    "soup = BeautifulSoup(req.content,'html.parser')"
   ]
  },
  {
   "cell_type": "code",
   "execution_count": 12,
   "id": "2f5242af",
   "metadata": {},
   "outputs": [
    {
     "data": {
      "text/plain": [
       "bs4.BeautifulSoup"
      ]
     },
     "execution_count": 12,
     "metadata": {},
     "output_type": "execute_result"
    }
   ],
   "source": [
    "type(soup)"
   ]
  },
  {
   "cell_type": "code",
   "execution_count": 15,
   "id": "88b221be",
   "metadata": {},
   "outputs": [],
   "source": [
    "result = soup.select('div > strong.tit_thumb > a[href].link_txt')"
   ]
  },
  {
   "cell_type": "code",
   "execution_count": 16,
   "id": "2b5993e6",
   "metadata": {},
   "outputs": [
    {
     "data": {
      "text/plain": [
       "bs4.element.ResultSet"
      ]
     },
     "execution_count": 16,
     "metadata": {},
     "output_type": "execute_result"
    }
   ],
   "source": [
    "type(result)"
   ]
  },
  {
   "cell_type": "code",
   "execution_count": 17,
   "id": "7592943e",
   "metadata": {},
   "outputs": [
    {
     "data": {
      "text/plain": [
       "<a class=\"link_txt\" data-tiara-custom=\"contentUniqueKey=hamny-20210624161729105\" data-tiara-id=\"20210624161729105\" data-tiara-layer=\"article_main\" data-tiara-ordnum=\"1\" data-tiara-type=\"harmony\" href=\"https://news.v.daum.net/v/20210624161729105\">재산권 침해 논란에 국토부·서울시 \"조합원 지위 제한, 소급·일괄적용 아냐\"</a>"
      ]
     },
     "execution_count": 17,
     "metadata": {},
     "output_type": "execute_result"
    }
   ],
   "source": [
    "result[0]"
   ]
  },
  {
   "cell_type": "code",
   "execution_count": 24,
   "id": "03fdd7aa",
   "metadata": {},
   "outputs": [
    {
     "data": {
      "text/plain": [
       "'재산권 침해 논란에 국토부·서울시 \"조합원 지위 제한, 소급·일괄적용 아냐\"'"
      ]
     },
     "execution_count": 24,
     "metadata": {},
     "output_type": "execute_result"
    }
   ],
   "source": [
    "result[0].text.strip()"
   ]
  },
  {
   "cell_type": "code",
   "execution_count": 19,
   "id": "ee01098e",
   "metadata": {},
   "outputs": [],
   "source": [
    "tag = result[0]"
   ]
  },
  {
   "cell_type": "code",
   "execution_count": 20,
   "id": "c86eb0f9",
   "metadata": {},
   "outputs": [
    {
     "data": {
      "text/plain": [
       "'https://news.v.daum.net/v/20210624161729105'"
      ]
     },
     "execution_count": 20,
     "metadata": {},
     "output_type": "execute_result"
    }
   ],
   "source": [
    "tag['href']"
   ]
  },
  {
   "cell_type": "code",
   "execution_count": 33,
   "id": "1c32f136",
   "metadata": {},
   "outputs": [
    {
     "data": {
      "text/plain": [
       "5"
      ]
     },
     "execution_count": 33,
     "metadata": {},
     "output_type": "execute_result"
    }
   ],
   "source": [
    "contents = []\n",
    "for tag in result:\n",
    "    #print(tag.text.strip(), tag['href'].strip() )\n",
    "    title = tag.text.strip()\n",
    "    link = tag['href'].strip()\n",
    "    content = [title,link]\n",
    "    contents.append(content)\n",
    "len(contents)"
   ]
  },
  {
   "cell_type": "code",
   "execution_count": 34,
   "id": "cb8b65a9",
   "metadata": {},
   "outputs": [
    {
     "data": {
      "text/plain": [
       "[['재산권 침해 논란에 국토부·서울시 \"조합원 지위 제한, 소급·일괄적용 아냐\"',\n",
       "  'https://news.v.daum.net/v/20210624161729105'],\n",
       " ['삼성·현대차 등 금융복합기업 감독 본격화..3년마다 위험평가',\n",
       "  'https://news.v.daum.net/v/20210624161440968'],\n",
       " ['\\'급식 몰아주기\\'에 사상 최대 과징금..삼성 \"행정소송할 것\"',\n",
       "  'https://news.v.daum.net/v/20210624160716684'],\n",
       " ['금투협 채권포럼..\"통화정책 정상화 임박, 만기별 금리 차별화\"',\n",
       "  'https://news.v.daum.net/v/20210624160022231'],\n",
       " ['재난지원금 소득하위 80%, 자영업자 지원 600만원 이상 유력',\n",
       "  'https://news.v.daum.net/v/20210624160147331']]"
      ]
     },
     "execution_count": 34,
     "metadata": {},
     "output_type": "execute_result"
    }
   ],
   "source": [
    "contents"
   ]
  },
  {
   "cell_type": "code",
   "execution_count": 35,
   "id": "1680f95e",
   "metadata": {},
   "outputs": [],
   "source": [
    "import pandas"
   ]
  },
  {
   "cell_type": "code",
   "execution_count": 40,
   "id": "d8c2cc88",
   "metadata": {},
   "outputs": [],
   "source": [
    "pd = pandas.DataFrame(contents,columns=['Title','Link']) # 컬럼명 지정"
   ]
  },
  {
   "cell_type": "code",
   "execution_count": 43,
   "id": "3d39dc7d",
   "metadata": {},
   "outputs": [
    {
     "data": {
      "text/html": [
       "<div>\n",
       "<style scoped>\n",
       "    .dataframe tbody tr th:only-of-type {\n",
       "        vertical-align: middle;\n",
       "    }\n",
       "\n",
       "    .dataframe tbody tr th {\n",
       "        vertical-align: top;\n",
       "    }\n",
       "\n",
       "    .dataframe thead th {\n",
       "        text-align: right;\n",
       "    }\n",
       "</style>\n",
       "<table border=\"1\" class=\"dataframe\">\n",
       "  <thead>\n",
       "    <tr style=\"text-align: right;\">\n",
       "      <th></th>\n",
       "      <th>Title</th>\n",
       "      <th>Link</th>\n",
       "    </tr>\n",
       "  </thead>\n",
       "  <tbody>\n",
       "    <tr>\n",
       "      <th>0</th>\n",
       "      <td>재산권 침해 논란에 국토부·서울시 \"조합원 지위 제한, 소급·일괄적용 아냐\"</td>\n",
       "      <td>https://news.v.daum.net/v/20210624161729105</td>\n",
       "    </tr>\n",
       "    <tr>\n",
       "      <th>1</th>\n",
       "      <td>삼성·현대차 등 금융복합기업 감독 본격화..3년마다 위험평가</td>\n",
       "      <td>https://news.v.daum.net/v/20210624161440968</td>\n",
       "    </tr>\n",
       "    <tr>\n",
       "      <th>2</th>\n",
       "      <td>'급식 몰아주기'에 사상 최대 과징금..삼성 \"행정소송할 것\"</td>\n",
       "      <td>https://news.v.daum.net/v/20210624160716684</td>\n",
       "    </tr>\n",
       "    <tr>\n",
       "      <th>3</th>\n",
       "      <td>금투협 채권포럼..\"통화정책 정상화 임박, 만기별 금리 차별화\"</td>\n",
       "      <td>https://news.v.daum.net/v/20210624160022231</td>\n",
       "    </tr>\n",
       "    <tr>\n",
       "      <th>4</th>\n",
       "      <td>재난지원금 소득하위 80%, 자영업자 지원 600만원 이상 유력</td>\n",
       "      <td>https://news.v.daum.net/v/20210624160147331</td>\n",
       "    </tr>\n",
       "  </tbody>\n",
       "</table>\n",
       "</div>"
      ],
      "text/plain": [
       "                                        Title  \\\n",
       "0  재산권 침해 논란에 국토부·서울시 \"조합원 지위 제한, 소급·일괄적용 아냐\"   \n",
       "1           삼성·현대차 등 금융복합기업 감독 본격화..3년마다 위험평가   \n",
       "2          '급식 몰아주기'에 사상 최대 과징금..삼성 \"행정소송할 것\"   \n",
       "3         금투협 채권포럼..\"통화정책 정상화 임박, 만기별 금리 차별화\"   \n",
       "4         재난지원금 소득하위 80%, 자영업자 지원 600만원 이상 유력   \n",
       "\n",
       "                                          Link  \n",
       "0  https://news.v.daum.net/v/20210624161729105  \n",
       "1  https://news.v.daum.net/v/20210624161440968  \n",
       "2  https://news.v.daum.net/v/20210624160716684  \n",
       "3  https://news.v.daum.net/v/20210624160022231  \n",
       "4  https://news.v.daum.net/v/20210624160147331  "
      ]
     },
     "execution_count": 43,
     "metadata": {},
     "output_type": "execute_result"
    }
   ],
   "source": [
    "pd"
   ]
  },
  {
   "cell_type": "code",
   "execution_count": 42,
   "id": "945212e1",
   "metadata": {},
   "outputs": [],
   "source": [
    "pd.to_excel('./saves/economic01.xls', index=False) # index 빼기"
   ]
  },
  {
   "cell_type": "code",
   "execution_count": null,
   "id": "0141e751",
   "metadata": {},
   "outputs": [],
   "source": []
  }
 ],
 "metadata": {
  "kernelspec": {
   "display_name": "Python 3",
   "language": "python",
   "name": "python3"
  },
  "language_info": {
   "codemirror_mode": {
    "name": "ipython",
    "version": 3
   },
   "file_extension": ".py",
   "mimetype": "text/x-python",
   "name": "python",
   "nbconvert_exporter": "python",
   "pygments_lexer": "ipython3",
   "version": "3.6.4"
  }
 },
 "nbformat": 4,
 "nbformat_minor": 5
}
