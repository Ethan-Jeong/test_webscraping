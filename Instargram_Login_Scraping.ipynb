{
 "cells": [
  {
   "cell_type": "code",
   "execution_count": 1,
   "id": "0b2df3ec",
   "metadata": {},
   "outputs": [],
   "source": [
    "from selenium import webdriver"
   ]
  },
  {
   "cell_type": "code",
   "execution_count": 4,
   "id": "17e4d9a8",
   "metadata": {},
   "outputs": [],
   "source": [
    "browser = webdriver.Chrome('./chromedriver/chromedriver')"
   ]
  },
  {
   "cell_type": "code",
   "execution_count": 5,
   "id": "d6febf7b",
   "metadata": {},
   "outputs": [],
   "source": [
    "browser.get('https://github.com/login')"
   ]
  },
  {
   "cell_type": "markdown",
   "id": "bec02b53",
   "metadata": {},
   "source": [
    "input#login_field , input#password , input[type=\"submit\"]"
   ]
  },
  {
   "cell_type": "code",
   "execution_count": null,
   "id": "05f9013b",
   "metadata": {},
   "outputs": [],
   "source": [
    "import time\n",
    "time.sleep(3)\n",
    "#ID\n",
    "browser.find_element_by_css_selector('input#login_field').send_keys('Ethan-Jeong')\n",
    "#PWD\n",
    "browser.find_element_by_css_selector('input#password').send_keys('0412Wjdrkdbs!')\n",
    "#Submit\n",
    "browser.find_element_by_css_selector('input[type=\"submit\"]').submit()"
   ]
  },
  {
   "cell_type": "markdown",
   "id": "68d36b28",
   "metadata": {},
   "source": [
    "좌표 담는거 연습"
   ]
  }
 ],
 "metadata": {
  "kernelspec": {
   "display_name": "Python 3",
   "language": "python",
   "name": "python3"
  },
  "language_info": {
   "codemirror_mode": {
    "name": "ipython",
    "version": 3
   },
   "file_extension": ".py",
   "mimetype": "text/x-python",
   "name": "python",
   "nbconvert_exporter": "python",
   "pygments_lexer": "ipython3",
   "version": "3.6.4"
  }
 },
 "nbformat": 4,
 "nbformat_minor": 5
}
