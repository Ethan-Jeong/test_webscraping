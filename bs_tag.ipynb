{
 "cells": [
  {
   "cell_type": "code",
   "execution_count": 3,
   "id": "46fbbdac",
   "metadata": {},
   "outputs": [],
   "source": [
    "from bs4 import BeautifulSoup"
   ]
  },
  {
   "cell_type": "code",
   "execution_count": 4,
   "id": "b854f542",
   "metadata": {},
   "outputs": [],
   "source": [
    "html = '''\n",
    "<html>\n",
    "    <head>\n",
    "    </head>\n",
    "    <body>\n",
    "        <h1> 우리동네시장</h1>\n",
    "            <div class = 'sale'>\n",
    "                <p id='fruits1' class='fruits'>\n",
    "                    <span class = 'name'> 바나나 </span>\n",
    "                    <span class = 'price'> 3000원 </span>\n",
    "                    <span class = 'inventory'> 500개 </span>\n",
    "                    <span class = 'store'> 가나다상회 </span>\n",
    "                    <a href = 'http://bit.ly/forPlaywithData' > 홈페이지 </a>\n",
    "                </p>\n",
    "            </div>\n",
    "            <div class = 'prepare'>\n",
    "                <p id='fruits2' class='fruits'>\n",
    "                    <span class ='name'> 파인애플 </span>\n",
    "                </p>\n",
    "            </div>\n",
    "    </body>\n",
    "</html>\n",
    "'''\n"
   ]
  },
  {
   "cell_type": "code",
   "execution_count": 5,
   "id": "21e711eb",
   "metadata": {},
   "outputs": [
    {
     "data": {
      "text/plain": [
       "\"\\n<html>\\n    <head>\\n    </head>\\n    <body>\\n        <h1> 우리동네시장</h1>\\n            <div class = 'sale'>\\n                <p id='fruits1' class='fruits'>\\n                    <span class = 'name'> 바나나 </span>\\n                    <span class = 'price'> 3000원 </span>\\n                    <span class = 'inventory'> 500개 </span>\\n                    <span class = 'store'> 가나다상회 </span>\\n                    <a href = 'http://bit.ly/forPlaywithData' > 홈페이지 </a>\\n                </p>\\n            </div>\\n            <div class = 'prepare'>\\n                <p id='fruits2' class='fruits'>\\n                    <span class ='name'> 파인애플 </span>\\n                </p>\\n            </div>\\n    </body>\\n</html>\\n\""
      ]
     },
     "execution_count": 5,
     "metadata": {},
     "output_type": "execute_result"
    }
   ],
   "source": [
    "html"
   ]
  },
  {
   "cell_type": "code",
   "execution_count": 6,
   "id": "39f2308d",
   "metadata": {},
   "outputs": [],
   "source": [
    "soup = BeautifulSoup(html,'html.parser')"
   ]
  },
  {
   "cell_type": "code",
   "execution_count": 7,
   "id": "730486c8",
   "metadata": {},
   "outputs": [
    {
     "data": {
      "text/plain": [
       "\n",
       "<html>\n",
       "<head>\n",
       "</head>\n",
       "<body>\n",
       "<h1> 우리동네시장</h1>\n",
       "<div class=\"sale\">\n",
       "<p class=\"fruits\" id=\"fruits1\">\n",
       "<span class=\"name\"> 바나나 </span>\n",
       "<span class=\"price\"> 3000원 </span>\n",
       "<span class=\"inventory\"> 500개 </span>\n",
       "<span class=\"store\"> 가나다상회 </span>\n",
       "<a href=\"http://bit.ly/forPlaywithData\"> 홈페이지 </a>\n",
       "</p>\n",
       "</div>\n",
       "<div class=\"prepare\">\n",
       "<p class=\"fruits\" id=\"fruits2\">\n",
       "<span class=\"name\"> 파인애플 </span>\n",
       "</p>\n",
       "</div>\n",
       "</body>\n",
       "</html>"
      ]
     },
     "execution_count": 7,
     "metadata": {},
     "output_type": "execute_result"
    }
   ],
   "source": [
    "soup"
   ]
  },
  {
   "cell_type": "code",
   "execution_count": 9,
   "id": "43832c24",
   "metadata": {},
   "outputs": [],
   "source": [
    "span = soup.select('span')"
   ]
  },
  {
   "cell_type": "code",
   "execution_count": 10,
   "id": "660cb792",
   "metadata": {},
   "outputs": [
    {
     "data": {
      "text/plain": [
       "(bs4.element.ResultSet,\n",
       " [<span class=\"name\"> 바나나 </span>,\n",
       "  <span class=\"price\"> 3000원 </span>,\n",
       "  <span class=\"inventory\"> 500개 </span>,\n",
       "  <span class=\"store\"> 가나다상회 </span>,\n",
       "  <span class=\"name\"> 파인애플 </span>])"
      ]
     },
     "execution_count": 10,
     "metadata": {},
     "output_type": "execute_result"
    }
   ],
   "source": [
    "type(span),span"
   ]
  },
  {
   "cell_type": "code",
   "execution_count": 11,
   "id": "60466860",
   "metadata": {},
   "outputs": [
    {
     "data": {
      "text/plain": [
       "(<span class=\"name\"> 바나나 </span>, <span class=\"name\"> 파인애플 </span>)"
      ]
     },
     "execution_count": 11,
     "metadata": {},
     "output_type": "execute_result"
    }
   ],
   "source": [
    "span[0],span[-1]"
   ]
  },
  {
   "cell_type": "markdown",
   "id": "71be68fc",
   "metadata": {},
   "source": [
    "###### class .    id #     tat 그냥 사용"
   ]
  },
  {
   "cell_type": "code",
   "execution_count": 14,
   "id": "12368dfd",
   "metadata": {},
   "outputs": [],
   "source": [
    "fruits = soup.select('#fruits1')"
   ]
  },
  {
   "cell_type": "code",
   "execution_count": 15,
   "id": "526c5a0c",
   "metadata": {},
   "outputs": [
    {
     "data": {
      "text/plain": [
       "(bs4.element.ResultSet,\n",
       " [<p class=\"fruits\" id=\"fruits1\">\n",
       "  <span class=\"name\"> 바나나 </span>\n",
       "  <span class=\"price\"> 3000원 </span>\n",
       "  <span class=\"inventory\"> 500개 </span>\n",
       "  <span class=\"store\"> 가나다상회 </span>\n",
       "  <a href=\"http://bit.ly/forPlaywithData\"> 홈페이지 </a>\n",
       "  </p>])"
      ]
     },
     "execution_count": 15,
     "metadata": {},
     "output_type": "execute_result"
    }
   ],
   "source": [
    "type(fruits) , fruits"
   ]
  },
  {
   "cell_type": "code",
   "execution_count": 16,
   "id": "b6374005",
   "metadata": {},
   "outputs": [
    {
     "data": {
      "text/plain": [
       "1"
      ]
     },
     "execution_count": 16,
     "metadata": {},
     "output_type": "execute_result"
    }
   ],
   "source": [
    "len(fruits)"
   ]
  },
  {
   "cell_type": "code",
   "execution_count": 19,
   "id": "b9847d1d",
   "metadata": {},
   "outputs": [],
   "source": [
    "inventory = soup.select('.inventory')"
   ]
  },
  {
   "cell_type": "code",
   "execution_count": 20,
   "id": "b3a54a44",
   "metadata": {},
   "outputs": [
    {
     "data": {
      "text/plain": [
       "1"
      ]
     },
     "execution_count": 20,
     "metadata": {},
     "output_type": "execute_result"
    }
   ],
   "source": [
    "len(inventory)"
   ]
  },
  {
   "cell_type": "code",
   "execution_count": 21,
   "id": "326cf6b7",
   "metadata": {},
   "outputs": [],
   "source": [
    "price = soup.select('span.price')"
   ]
  },
  {
   "cell_type": "code",
   "execution_count": 22,
   "id": "749f02f2",
   "metadata": {},
   "outputs": [
    {
     "data": {
      "text/plain": [
       "(bs4.element.ResultSet, 1, [<span class=\"price\"> 3000원 </span>])"
      ]
     },
     "execution_count": 22,
     "metadata": {},
     "output_type": "execute_result"
    }
   ],
   "source": [
    "type(price) , len(price) , price "
   ]
  },
  {
   "cell_type": "code",
   "execution_count": 25,
   "id": "fa3ad664",
   "metadata": {},
   "outputs": [],
   "source": [
    "name = soup.select('p#fruits1 > .name')"
   ]
  },
  {
   "cell_type": "code",
   "execution_count": 26,
   "id": "83473cb3",
   "metadata": {},
   "outputs": [
    {
     "data": {
      "text/plain": [
       "(bs4.element.ResultSet, 1, [<span class=\"name\"> 바나나 </span>])"
      ]
     },
     "execution_count": 26,
     "metadata": {},
     "output_type": "execute_result"
    }
   ],
   "source": [
    "type(name),len(name),name"
   ]
  },
  {
   "cell_type": "code",
   "execution_count": 29,
   "id": "6a86a0c1",
   "metadata": {},
   "outputs": [],
   "source": [
    "banana = soup.select('div.sale > fruits > .name')"
   ]
  },
  {
   "cell_type": "code",
   "execution_count": 28,
   "id": "ad2fd308",
   "metadata": {},
   "outputs": [
    {
     "data": {
      "text/plain": [
       "(bs4.element.ResultSet, 1, [<span class=\"name\"> 바나나 </span>])"
      ]
     },
     "execution_count": 28,
     "metadata": {},
     "output_type": "execute_result"
    }
   ],
   "source": [
    "type(banana), len(banana),banana"
   ]
  },
  {
   "cell_type": "code",
   "execution_count": 31,
   "id": "79f091f4",
   "metadata": {},
   "outputs": [],
   "source": [
    "name2 = soup.select('.name')"
   ]
  },
  {
   "cell_type": "code",
   "execution_count": 32,
   "id": "39aa7748",
   "metadata": {},
   "outputs": [
    {
     "data": {
      "text/plain": [
       "[<span class=\"name\"> 바나나 </span>, <span class=\"name\"> 파인애플 </span>]"
      ]
     },
     "execution_count": 32,
     "metadata": {},
     "output_type": "execute_result"
    }
   ],
   "source": [
    "name2"
   ]
  },
  {
   "cell_type": "code",
   "execution_count": 35,
   "id": "7c760aa2",
   "metadata": {},
   "outputs": [
    {
     "name": "stdout",
     "output_type": "stream",
     "text": [
      "<span class=\"name\"> 바나나 </span>\n",
      "<span class=\"name\"> 파인애플 </span>\n"
     ]
    }
   ],
   "source": [
    "for tag in name2:\n",
    "    print(tag)"
   ]
  },
  {
   "cell_type": "code",
   "execution_count": 36,
   "id": "e75e887b",
   "metadata": {},
   "outputs": [
    {
     "data": {
      "text/plain": [
       "<span class=\"name\"> 바나나 </span>"
      ]
     },
     "execution_count": 36,
     "metadata": {},
     "output_type": "execute_result"
    }
   ],
   "source": [
    "name2[0]"
   ]
  },
  {
   "cell_type": "code",
   "execution_count": 43,
   "id": "cfb34565",
   "metadata": {},
   "outputs": [],
   "source": [
    "s = name2[0].text"
   ]
  },
  {
   "cell_type": "code",
   "execution_count": 44,
   "id": "28f2e695",
   "metadata": {},
   "outputs": [
    {
     "data": {
      "text/plain": [
       "' 바나나 '"
      ]
     },
     "execution_count": 44,
     "metadata": {},
     "output_type": "execute_result"
    }
   ],
   "source": [
    "s # text 앞 뒤로 공백이 같이 출력됨"
   ]
  },
  {
   "cell_type": "code",
   "execution_count": 45,
   "id": "ef53df2f",
   "metadata": {},
   "outputs": [
    {
     "data": {
      "text/plain": [
       "'바나나'"
      ]
     },
     "execution_count": 45,
     "metadata": {},
     "output_type": "execute_result"
    }
   ],
   "source": [
    "s.strip() # 앞뒤의 공백을 없앰"
   ]
  },
  {
   "cell_type": "code",
   "execution_count": 47,
   "id": "d296a984",
   "metadata": {},
   "outputs": [],
   "source": [
    "s1 = name2[0].text.strip() # 글자 바꾸고 , 앞뒤 공백 없애는것을 한번애 명시"
   ]
  },
  {
   "cell_type": "code",
   "execution_count": 48,
   "id": "cad1f664",
   "metadata": {},
   "outputs": [
    {
     "data": {
      "text/plain": [
       "'바나나'"
      ]
     },
     "execution_count": 48,
     "metadata": {},
     "output_type": "execute_result"
    }
   ],
   "source": [
    "s1"
   ]
  },
  {
   "cell_type": "code",
   "execution_count": 50,
   "id": "17b05cee",
   "metadata": {},
   "outputs": [
    {
     "name": "stdout",
     "output_type": "stream",
     "text": [
      "바나나\n",
      "파인애플\n"
     ]
    }
   ],
   "source": [
    "for tag in name2:\n",
    "    print(tag.text.strip())"
   ]
  },
  {
   "cell_type": "code",
   "execution_count": 51,
   "id": "53df912d",
   "metadata": {},
   "outputs": [
    {
     "data": {
      "text/plain": [
       "list"
      ]
     },
     "execution_count": 51,
     "metadata": {},
     "output_type": "execute_result"
    }
   ],
   "source": [
    "type(name2[0]['class'])"
   ]
  },
  {
   "cell_type": "code",
   "execution_count": 52,
   "id": "ddebbe90",
   "metadata": {},
   "outputs": [
    {
     "data": {
      "text/plain": [
       "'name'"
      ]
     },
     "execution_count": 52,
     "metadata": {},
     "output_type": "execute_result"
    }
   ],
   "source": [
    "cls = name2[0]['class']\n",
    "cls[0]"
   ]
  },
  {
   "cell_type": "code",
   "execution_count": 53,
   "id": "b9f0bf0c",
   "metadata": {},
   "outputs": [
    {
     "data": {
      "text/plain": [
       "'name'"
      ]
     },
     "execution_count": 53,
     "metadata": {},
     "output_type": "execute_result"
    }
   ],
   "source": [
    "cls2 = name2[0]['class'][0]\n",
    "cls2"
   ]
  },
  {
   "cell_type": "code",
   "execution_count": 55,
   "id": "cc95899e",
   "metadata": {},
   "outputs": [
    {
     "name": "stdout",
     "output_type": "stream",
     "text": [
      "name\n",
      "name\n"
     ]
    }
   ],
   "source": [
    "for tag in name2:\n",
    "    print(tag['class'][0])"
   ]
  },
  {
   "cell_type": "code",
   "execution_count": null,
   "id": "b28dc780",
   "metadata": {},
   "outputs": [],
   "source": []
  }
 ],
 "metadata": {
  "kernelspec": {
   "display_name": "Python 3",
   "language": "python",
   "name": "python3"
  },
  "language_info": {
   "codemirror_mode": {
    "name": "ipython",
    "version": 3
   },
   "file_extension": ".py",
   "mimetype": "text/x-python",
   "name": "python",
   "nbconvert_exporter": "python",
   "pygments_lexer": "ipython3",
   "version": "3.6.4"
  }
 },
 "nbformat": 4,
 "nbformat_minor": 5
}
